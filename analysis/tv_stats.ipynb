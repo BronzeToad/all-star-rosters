{
 "cells": [
  {
   "cell_type": "markdown",
   "metadata": {},
   "source": [
    "# MLB All-Star Game Television Viewership Analysis"
   ]
  },
  {
   "cell_type": "code",
   "execution_count": 1,
   "metadata": {},
   "outputs": [
    {
     "name": "stdout",
     "output_type": "stream",
     "text": [
      "Invoking __init__.py for helpers\n"
     ]
    }
   ],
   "source": [
    "# imports\n",
    "import numpy as np\n",
    "import os.path as osPath\n",
    "import pandas as pd\n",
    "\n",
    "from icecream import ic\n",
    "\n",
    "import helpers.data_utils as DataHelper"
   ]
  },
  {
   "cell_type": "code",
   "execution_count": 2,
   "metadata": {},
   "outputs": [
    {
     "name": "stdout",
     "output_type": "stream",
     "text": [
      "\n",
      "\n",
      "------------------------------------------------\n",
      "Filepath: data/baseball_almanac/all_star_game_tv_stats.csv\n",
      "Dataframe shape: (55, 6)\n",
      "Data types...\n",
      "Year | ASG      int64\n",
      "Network        object\n",
      "Rating        float64\n",
      "Share           int64\n",
      "Households     object\n",
      "Viewers        object\n",
      "dtype: object\n"
     ]
    }
   ],
   "source": [
    "# get data from csv file\n",
    "filename = 'all_star_game_tv_stats.csv'\n",
    "path = osPath.join('data', 'baseball_almanac')\n",
    "df = DataHelper.get_csv(filename, path)"
   ]
  },
  {
   "cell_type": "code",
   "execution_count": 3,
   "metadata": {},
   "outputs": [
    {
     "name": "stdout",
     "output_type": "stream",
     "text": [
      "Index(['Year', 'Network', 'Rating', 'Share', 'HouseholdViewers', 'Viewers'], dtype='object')\n"
     ]
    }
   ],
   "source": [
    "# update column names\n",
    "update_col_names = {\n",
    "    'Year | ASG': 'Year',\n",
    "    'Households': 'HouseholdViewers'\n",
    "}\n",
    "\n",
    "df.rename(columns=update_col_names, inplace=True)\n",
    "print(df.columns)"
   ]
  },
  {
   "cell_type": "code",
   "execution_count": 4,
   "metadata": {},
   "outputs": [
    {
     "name": "stdout",
     "output_type": "stream",
     "text": [
      "Index(['Year', 'Rating', 'Share', 'HouseholdViewers'], dtype='object')\n"
     ]
    }
   ],
   "source": [
    "# remove unneeded columns\n",
    "remove_cols = [\n",
    "    'Network',\n",
    "    'Viewers'\n",
    "]\n",
    "\n",
    "df.drop(columns=remove_cols, inplace=True)\n",
    "print(df.columns)"
   ]
  },
  {
   "cell_type": "code",
   "execution_count": 5,
   "metadata": {},
   "outputs": [
    {
     "name": "stdout",
     "output_type": "stream",
     "text": [
      "Year                  int64\n",
      "Rating              float64\n",
      "Share                 int64\n",
      "HouseholdViewers      int64\n",
      "dtype: object\n"
     ]
    }
   ],
   "source": [
    "# update data types\n",
    "df['HouseholdViewers'] = pd.to_numeric(df['HouseholdViewers'].str.replace(',', ''))\n",
    "print(df.dtypes)"
   ]
  },
  {
   "cell_type": "code",
   "execution_count": 6,
   "metadata": {},
   "outputs": [],
   "source": [
    "def get_moving_range(dataframe, column: str, window_size: int, calculation: str) -> list:\n",
    "    \"\"\" Function to get moving/rolling range for given dataframe series.\n",
    "\n",
    "    Parameters\n",
    "    ----------\n",
    "    dataframe : pd.DataFrame\n",
    "        Pandas dataframe containing target series.\n",
    "    column : str\n",
    "        Column name of target series.\n",
    "    window_size : int\n",
    "        Size of window for rolling range calculation.\n",
    "    calculation : str\n",
    "        Calculation to be used: min, max, or mean.\n",
    "\n",
    "    Returns\n",
    "    -------\n",
    "    _clean_windows : list\n",
    "        List of rolling ranges with given calculation applied.\n",
    "\n",
    "    Raises\n",
    "    ------\n",
    "    ValueError\n",
    "        If window size is less than two or more than given series length.\n",
    "    ValueError\n",
    "        If range calculation is something other than min, max, or mean.\n",
    "    \"\"\"\n",
    "    _arr = dataframe[column]\n",
    "    _len_series = len(_arr)\n",
    "    _calc = calculation\n",
    "    _winsize = window_size\n",
    "    _valid_calcs = ['mean', 'min', 'max']\n",
    "    _clean_windows = []\n",
    "    \n",
    "    if _winsize < 2 or _winsize >= _len_series:\n",
    "        raise ValueError(f'Window size must be between 2 and {_len_series}...')\n",
    "\n",
    "    if _calc == 'mean':\n",
    "        _dirty_windows = pd.Series(_arr).rolling(_winsize).mean()\n",
    "    elif _calc == 'min':\n",
    "        _dirty_windows = pd.Series(_arr).rolling(_winsize).min()\n",
    "    elif _calc == 'max':\n",
    "        _dirty_windows = pd.Series(_arr).rolling(_winsize).max()\n",
    "    else:\n",
    "        raise ValueError(f'Invalid range calculation: {_calc}. Value must be in: {_valid_calcs}...')\n",
    "\n",
    "    for _win in _dirty_windows.tolist():\n",
    "        if not np.isnan(_win):\n",
    "            if _calc in ['min', 'max']:\n",
    "                _win = int(_win)\n",
    "            else:\n",
    "                _win = round(_win, 2)\n",
    "            _clean_windows.append(_win)\n",
    "    \n",
    "    return _clean_windows"
   ]
  },
  {
   "cell_type": "code",
   "execution_count": 35,
   "metadata": {},
   "outputs": [
    {
     "name": "stdout",
     "output_type": "stream",
     "text": [
      "['1967-1976', '1968-1977', '1969-1978', '1970-1979', '1971-1980', '1972-1981', '1973-1982', '1974-1983', '1975-1984', '1976-1985', '1977-1986', '1978-1987', '1979-1988', '1980-1989', '1981-1990', '1982-1991', '1983-1992', '1984-1993', '1985-1994', '1986-1995', '1987-1996', '1988-1997', '1989-1998', '1990-1999', '1991-2000', '1992-2001', '1993-2002', '1994-2003', '1995-2004', '1996-2005', '1997-2006', '1998-2007', '1999-2008', '2000-2009', '2001-2010', '2002-2011', '2003-2012', '2004-2013', '2005-2014', '2006-2015', '2007-2016', '2008-2017', '2009-2018', '2010-2019', '2011-2021', '2012-2022']\n"
     ]
    }
   ],
   "source": [
    "# get date range for moving averages\n",
    "window_size = 10\n",
    "\n",
    "min_years = get_moving_range(df, 'Year', window_size, calculation='min')\n",
    "max_years = get_moving_range(df, 'Year', window_size, calculation='max')\n",
    "\n",
    "min_max_years = []\n",
    "for min, max in zip(min_years, max_years):\n",
    "    min_max_years.append(f'{min}-{max}')"
   ]
  },
  {
   "cell_type": "code",
   "execution_count": 38,
   "metadata": {},
   "outputs": [],
   "source": [
    "# get moving average for df metrics\n",
    "window_size = 10\n",
    "\n",
    "moving_avg_rating = get_moving_range(df, 'Rating', window_size, calculation='mean')\n",
    "moving_avg_share = get_moving_range(df, 'Share', window_size, calculation='mean')\n",
    "moving_avg_viewers = get_moving_range(df, 'HouseholdViewers', window_size, calculation='mean')"
   ]
  },
  {
   "cell_type": "code",
   "execution_count": 36,
   "metadata": {},
   "outputs": [],
   "source": [
    "def get_first_last(input_list: list) -> list:\n",
    "    \"\"\" Returns first and last element of input_list as new list.\n",
    "\n",
    "    Parameters\n",
    "    ----------\n",
    "    input_list : list\n",
    "        List containing target elements.\n",
    "\n",
    "    Returns\n",
    "    -------\n",
    "    _first_last : list\n",
    "        New list containing first and last element of input_list.\n",
    "    \"\"\"\n",
    "    _first_last = []\n",
    "    for i in [0, -1]:\n",
    "        _first_last.append(input_list[i])\n",
    "    return _first_last"
   ]
  },
  {
   "cell_type": "code",
   "execution_count": null,
   "metadata": {},
   "outputs": [],
   "source": [
    "def get_percent_change(input_list: list) -> list:\n",
    "    \"\"\" Returns percent change between first and last element of input_list.\n",
    "    \n",
    "    Returns a list with the first element being NaN and the last element being the percent change.\n",
    "\n",
    "    Parameters\n",
    "    ----------\n",
    "    input_list : list\n",
    "        List for which percent change should be calculated.\n",
    "\n",
    "    Returns\n",
    "    -------\n",
    "    _pct_change : list\n",
    "        List with NaN and delta between first and last element of input_list.\n",
    "    \"\"\"\n",
    "    _delta = round(((input_list[0] - input_list[-1]) / input_list[0]), 2)\n",
    "    _pct_change = [np.nan, _delta]\n",
    "    return _pct_change"
   ]
  },
  {
   "cell_type": "code",
   "execution_count": 37,
   "metadata": {},
   "outputs": [
    {
     "data": {
      "text/html": [
       "<div>\n",
       "<style scoped>\n",
       "    .dataframe tbody tr th:only-of-type {\n",
       "        vertical-align: middle;\n",
       "    }\n",
       "\n",
       "    .dataframe tbody tr th {\n",
       "        vertical-align: top;\n",
       "    }\n",
       "\n",
       "    .dataframe thead th {\n",
       "        text-align: right;\n",
       "    }\n",
       "</style>\n",
       "<table border=\"1\" class=\"dataframe\">\n",
       "  <thead>\n",
       "    <tr style=\"text-align: right;\">\n",
       "      <th></th>\n",
       "      <th>Years</th>\n",
       "      <th>AvgRating</th>\n",
       "      <th>RatingDelta</th>\n",
       "      <th>AvgShare</th>\n",
       "      <th>ShareDelta</th>\n",
       "      <th>AvgHouseholdViewers</th>\n",
       "      <th>ViewersDelta</th>\n",
       "    </tr>\n",
       "  </thead>\n",
       "  <tbody>\n",
       "    <tr>\n",
       "      <th>0</th>\n",
       "      <td>1967-1976</td>\n",
       "      <td>24.07</td>\n",
       "      <td>NaN</td>\n",
       "      <td>47.1</td>\n",
       "      <td>NaN</td>\n",
       "      <td>14855000.0</td>\n",
       "      <td>NaN</td>\n",
       "    </tr>\n",
       "    <tr>\n",
       "      <th>1</th>\n",
       "      <td>2012-2022</td>\n",
       "      <td>5.71</td>\n",
       "      <td>0.76</td>\n",
       "      <td>11.0</td>\n",
       "      <td>0.77</td>\n",
       "      <td>7172572.4</td>\n",
       "      <td>0.52</td>\n",
       "    </tr>\n",
       "  </tbody>\n",
       "</table>\n",
       "</div>"
      ],
      "text/plain": [
       "       Years  AvgRating  RatingDelta  AvgShare  ShareDelta  \\\n",
       "0  1967-1976      24.07          NaN      47.1         NaN   \n",
       "1  2012-2022       5.71         0.76      11.0        0.77   \n",
       "\n",
       "   AvgHouseholdViewers  ViewersDelta  \n",
       "0           14855000.0           NaN  \n",
       "1            7172572.4          0.52  "
      ]
     },
     "execution_count": 37,
     "metadata": {},
     "output_type": "execute_result"
    }
   ],
   "source": [
    "# create dataframe with first and last records\n",
    "data = {\n",
    "    'Years': get_first_last(min_max_years),\n",
    "    'AvgRating': get_first_last(moving_avg_rating),\n",
    "    'RatingDelta': get_percent_change(moving_avg_rating),\n",
    "    'AvgShare': get_first_last(moving_avg_share),\n",
    "    'ShareDelta': get_percent_change(moving_avg_share),\n",
    "    'AvgHouseholdViewers': get_first_last(moving_avg_viewers),\n",
    "    'ViewersDelta': get_percent_change(moving_avg_viewers)\n",
    "}\n",
    "\n",
    "first_last_df = pd.DataFrame(data)\n",
    "first_last_df"
   ]
  },
  {
   "cell_type": "markdown",
   "metadata": {},
   "source": [
    "After reviewing television viewing data from MLB All-Star games we observe a massive decrease in viewership. From the first time period in this dataset (1967-1976) to the most recent available time period (2012-2022); the average rating for All-Star games dropped by 76%, the average share of the viewership market decreased by 77%, and the number of average household viewers fell by 52%."
   ]
  }
 ],
 "metadata": {
  "kernelspec": {
   "display_name": "Python 3.9.0 ('.venv': venv)",
   "language": "python",
   "name": "python3"
  },
  "language_info": {
   "codemirror_mode": {
    "name": "ipython",
    "version": 3
   },
   "file_extension": ".py",
   "mimetype": "text/x-python",
   "name": "python",
   "nbconvert_exporter": "python",
   "pygments_lexer": "ipython3",
   "version": "3.9.0"
  },
  "orig_nbformat": 4,
  "vscode": {
   "interpreter": {
    "hash": "ba7c7352cec0211f0ba6500f0564113d7d15193a222362e3e3937cb311fbac5a"
   }
  }
 },
 "nbformat": 4,
 "nbformat_minor": 2
}
